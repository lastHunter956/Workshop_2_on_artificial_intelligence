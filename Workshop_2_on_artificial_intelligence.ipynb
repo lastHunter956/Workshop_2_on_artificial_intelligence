{
 "cells": [
  {
   "cell_type": "markdown",
   "source": [
    "# Treasure Hunt in the Ancient Jungle\n",
    "You are an intrepid treasure hunter in search of a legendary relic lost deep in an ancient jungle. You have a rudimentary map that indicates a series of landmarks in the jungle, but it is unclear how they are connected. You must use your programming expertise and problem-solving skills to create an algorithm that generates a search tree and finds the shortest path to the lost treasure.\n",
    "## Implementation\n",
    "You will proceed to create an agent that can use artificial intelligence to find the shortest path to the lost treasure in the ancient jungle, using a search algorithm.\n",
    "### Step 1: Map representation\n",
    "To begin, we need to represent the rudimentary map as a graph. Each reference point will be a node, and the connections between them will be the edges of the graph. We will use coordinates to locate these nodes in 2D space.\n",
    "### Step 2: Search algorithm\n",
    "We will use a search algorithm to find the shortest path from a starting point to the treasure. Since we are looking for a path in a graph, **is an appropriate choice. A^** uses a **heuristic function** to estimate the cost of reaching the goal from a given node and then selects the next node to expand based on a combination of these estimated costs and the actual costs travelled.\n",
    "### Step 3: Implementing the intelligent agent\n",
    "#### The necessary imports are performed\n",
    "In this case only the \"heapq\" library will be imported, which is a standard Python library that provides the heapq library, which is mainly used to implement heap data structures. A heap is a specialised data structure that allows efficient access to the minimum (minimum heap) or maximum (maximum heap) element in a dataset.\n"
   ],
   "metadata": {
    "collapsed": false
   },
   "id": "c29ec13d8f676c68"
  },
  {
   "cell_type": "code",
   "execution_count": 2,
   "outputs": [],
   "source": [
    "import heapq"
   ],
   "metadata": {
    "collapsed": false,
    "ExecuteTime": {
     "end_time": "2023-09-01T22:11:26.718850Z",
     "start_time": "2023-09-01T22:11:26.702211200Z"
    }
   },
   "id": "fa7fce719aa50357"
  },
  {
   "cell_type": "markdown",
   "source": [
    "#### The construction of the treasure hunter agent class is carried out."
   ],
   "metadata": {
    "collapsed": false
   },
   "id": "4bad45d8495b293e"
  },
  {
   "cell_type": "code",
   "execution_count": 11,
   "outputs": [],
   "source": [
    "class AgentTreasureScout:\n",
    "    def __init__(self, map, weights):\n",
    "        self.map = map\n",
    "        self.weights = weights\n",
    "\n",
    "    def distance_manhattan(self, point_a, point_b):\n",
    "        # Calculate the Manhattan distance between two points.\n",
    "        return abs(point_a[0] - point_b[0]) + abs(point_a[1] - point_b[1])\n",
    "\n",
    "    def treasure_search(self, start, target):\n",
    "        priority_queue = [(0, start)] # Priority queue with (cost + heuristic, node).\n",
    "        costs = {start: 0} # Dictionary of costs from start to each node\n",
    "        parent = {} # Dictionary to track the parents of each node\n",
    "\n",
    "        while priority_queue:\n",
    "            current_cost, current_node = heapq.heappop(priority_queue)\n",
    "\n",
    "            if current_node == target:\n",
    "                # we've found the treasure, we rebuild the path.\n",
    "                path = [target]\n",
    "                while current_node in parent:\n",
    "                    current_node = parent[current_node]\n",
    "                    path.append(current_node)\n",
    "                path.reverse()\n",
    "                return path\n",
    "\n",
    "            # iterate through the current node's neighbour nodes\n",
    "            for neighbour in self.map[current_node]:\n",
    "                new_cost = costs[current_node] + self.weights.get((current_node, neighbour), float('inf'))\n",
    "                if neighbour not in costs or new_cost < costs[neighbour]:\n",
    "                    costs[neighbour] = new_cost\n",
    "                    # Calculate the Manhattan distance from the neighbour to the target\n",
    "                    heuristic = self.distance_manhattan(neighbour, target)\n",
    "                    priority = new_cost + heuristic\n",
    "                    heapq.heappush(priority_queue, (priority, neighbour))\n",
    "                    parent[neighbour] = current_node\n",
    "\n",
    "        # If no path is found, return None\n",
    "        return None\n",
    "\n",
    "    def has_found_treasure(self, path):\n",
    "        # Check if the agent has found the treasure.\n",
    "        return path is not None"
   ],
   "metadata": {
    "collapsed": false,
    "ExecuteTime": {
     "end_time": "2023-09-01T22:18:57.439226700Z",
     "start_time": "2023-09-01T22:18:57.403276700Z"
    }
   },
   "id": "86d4480caa397ad3"
  },
  {
   "cell_type": "markdown",
   "source": [
    "#### Example of use"
   ],
   "metadata": {
    "collapsed": false
   },
   "id": "b1986de75d35d3d2"
  },
  {
   "cell_type": "code",
   "execution_count": 12,
   "outputs": [
    {
     "name": "stdout",
     "output_type": "stream",
     "text": [
      "Path found:\n",
      "(0, 0)\n",
      "(0, 1)\n",
      "(0, 2)\n",
      "(1, 2)\n",
      "(1, 3)\n",
      "(2, 3)\n",
      "(3, 3)\n",
      "(4, 3)\n",
      "(5, 3)\n"
     ]
    }
   ],
   "source": [
    "if __name__ == \"__main__\":\n",
    "    map = {\n",
    "        (0, 0): [(1, 0), (0, 1)],\n",
    "        (1, 0): [(0, 0), (2, 0)],\n",
    "        (0, 1): [(0, 0), (0, 2)],\n",
    "        (2, 0): [(1, 0), (3, 0)],\n",
    "        (0, 2): [(0, 1), (1, 2)],\n",
    "        (3, 0): [(2, 0), (4, 0)],\n",
    "        (1, 2): [(0, 2), (1, 3)],\n",
    "        (4, 0): [(3, 0), (4, 1)],\n",
    "        (1, 3): [(1, 2), (2, 3)],\n",
    "        (4, 1): [(4, 0), (4, 2)],\n",
    "        (2, 3): [(1, 3), (3, 3)],\n",
    "        (4, 2): [(4, 1), (5, 2)],\n",
    "        (3, 3): [(2, 3), (4, 3)],\n",
    "        (5, 2): [(4, 2), (5, 3)],\n",
    "        (4, 3): [(3, 3), (5, 3)],\n",
    "        (5, 3): [(4, 3)]\n",
    "    }\n",
    "\n",
    "    weights = {\n",
    "        ((0, 0), (1, 0)): 1,\n",
    "        ((0, 0), (0, 1)): 1,\n",
    "        # Define the weights for other neighbouring nodes here\n",
    "    }\n",
    "\n",
    "    agent = AgentTreasureScout(map, weights)\n",
    "    start = (0, 0)\n",
    "    target = (5, 3)\n",
    "    path = agent.treasure_search(start, target)\n",
    "\n",
    "    if agent.has_found_treasure(path):\n",
    "        print(\"Path found:\")\n",
    "        for point in path:\n",
    "            print(point)\n",
    "    else:\n",
    "        print(\"No path to the treasure was found.\")"
   ],
   "metadata": {
    "collapsed": false,
    "ExecuteTime": {
     "end_time": "2023-09-01T22:18:59.768019900Z",
     "start_time": "2023-09-01T22:18:59.745986100Z"
    }
   },
   "id": "4de99a154ae0adda"
  }
 ],
 "metadata": {
  "kernelspec": {
   "display_name": "Python 3",
   "language": "python",
   "name": "python3"
  },
  "language_info": {
   "codemirror_mode": {
    "name": "ipython",
    "version": 2
   },
   "file_extension": ".py",
   "mimetype": "text/x-python",
   "name": "python",
   "nbconvert_exporter": "python",
   "pygments_lexer": "ipython2",
   "version": "2.7.6"
  }
 },
 "nbformat": 4,
 "nbformat_minor": 5
}
